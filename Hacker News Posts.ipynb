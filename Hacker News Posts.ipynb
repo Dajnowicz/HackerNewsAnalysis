{
 "cells": [
  {
   "cell_type": "code",
   "execution_count": 8,
   "metadata": {},
   "outputs": [
    {
     "name": "stdout",
     "output_type": "stream",
     "text": [
      "['\\ufeffid', 'title', 'url', 'num_points', 'num_comments', 'author', 'created_at']\n",
      "['12579008', 'You have two days to comment if you want stem cells to be classified as your own', 'http://www.regulations.gov/document?D=FDA-2015-D-3719-0018', '1', '0', 'altstar', '9/26/2016 3:26']\n",
      "['12579005', 'SQLAR  the SQLite Archiver', 'https://www.sqlite.org/sqlar/doc/trunk/README.md', '1', '0', 'blacksqr', '9/26/2016 3:24']\n",
      "['12578997', 'What if we just printed a flatscreen television on the side of our boxes?', 'https://medium.com/vanmoof/our-secrets-out-f21c1f03fdc8#.ietxmez43', '1', '0', 'pavel_lishin', '9/26/2016 3:19']\n",
      "['12578989', 'algorithmic music', 'http://cacm.acm.org/magazines/2011/7/109891-algorithmic-composition/fulltext', '1', '0', 'poindontcare', '9/26/2016 3:16']\n"
     ]
    }
   ],
   "source": [
    "from csv import reader\n",
    "opened_file = open('hacker_news.csv', encoding=\"utf8\")\n",
    "read_file = reader(opened_file)\n",
    "hn = list(read_file)\n",
    "data_slice = hn[:5]         \n",
    "for row in data_slice:\n",
    "    print(row)"
   ]
  },
  {
   "cell_type": "code",
   "execution_count": 9,
   "metadata": {},
   "outputs": [],
   "source": [
    "def data_slice(data,start,end):\n",
    "    data_sl = data[start:end]\n",
    "    for row in data_sl:\n",
    "        print(row)"
   ]
  },
  {
   "cell_type": "code",
   "execution_count": 10,
   "metadata": {},
   "outputs": [
    {
     "name": "stdout",
     "output_type": "stream",
     "text": [
      "['\\ufeffid', 'title', 'url', 'num_points', 'num_comments', 'author', 'created_at']\n"
     ]
    }
   ],
   "source": [
    "header = hn[0]\n",
    "#del(hn[0]) # deleting header\n",
    "print(header)\n"
   ]
  },
  {
   "cell_type": "code",
   "execution_count": 11,
   "metadata": {},
   "outputs": [
    {
     "name": "stdout",
     "output_type": "stream",
     "text": [
      "['\\ufeffid', 'title', 'url', 'num_points', 'num_comments', 'author', 'created_at']\n",
      "['12579008', 'You have two days to comment if you want stem cells to be classified as your own', 'http://www.regulations.gov/document?D=FDA-2015-D-3719-0018', '1', '0', 'altstar', '9/26/2016 3:26']\n",
      "['12579005', 'SQLAR  the SQLite Archiver', 'https://www.sqlite.org/sqlar/doc/trunk/README.md', '1', '0', 'blacksqr', '9/26/2016 3:24']\n",
      "['12578997', 'What if we just printed a flatscreen television on the side of our boxes?', 'https://medium.com/vanmoof/our-secrets-out-f21c1f03fdc8#.ietxmez43', '1', '0', 'pavel_lishin', '9/26/2016 3:19']\n",
      "['12578989', 'algorithmic music', 'http://cacm.acm.org/magazines/2011/7/109891-algorithmic-composition/fulltext', '1', '0', 'poindontcare', '9/26/2016 3:16']\n"
     ]
    }
   ],
   "source": [
    "data_slice(hn,0,5)"
   ]
  },
  {
   "cell_type": "code",
   "execution_count": 12,
   "metadata": {},
   "outputs": [
    {
     "name": "stdout",
     "output_type": "stream",
     "text": [
      "541\n",
      "492\n",
      "13603\n"
     ]
    }
   ],
   "source": [
    "ask_posts = []\n",
    "show_posts = []\n",
    "other_posts = []\n",
    "\n",
    "for row in hn:\n",
    "    title = row[1]\n",
    "    title = title.lower()\n",
    "    if title.startswith('ask hn'):\n",
    "        ask_posts.append(row)\n",
    "    elif title.startswith('show hn'):\n",
    "        show_posts.append(row)\n",
    "    else:\n",
    "        other_posts.append(row)\n",
    "print(len(ask_posts))\n",
    "print(len(show_posts))\n",
    "print(len(other_posts))"
   ]
  },
  {
   "cell_type": "code",
   "execution_count": 13,
   "metadata": {},
   "outputs": [
    {
     "name": "stdout",
     "output_type": "stream",
     "text": [
      "['12578908', 'Ask HN: What TLD do you use for local development?', '', '4', '7', 'Sevrene', '9/26/2016 2:53']\n",
      "['12578522', 'Ask HN: How do you pass on your work when you die?', '', '6', '3', 'PascLeRasc', '9/26/2016 1:17']\n",
      "['12577908', 'Ask HN: How a DNS problem can be limited to a geographic region?', '', '1', '0', 'kuon', '9/25/2016 22:57']\n"
     ]
    }
   ],
   "source": [
    "data_slice(ask_posts,0,3)"
   ]
  },
  {
   "cell_type": "code",
   "execution_count": 14,
   "metadata": {},
   "outputs": [
    {
     "name": "stdout",
     "output_type": "stream",
     "text": [
      "['12578335', 'Show HN: Finding puns computationally', 'http://puns.samueltaylor.org/', '2', '0', 'saamm', '9/26/2016 0:36']\n",
      "['12578182', 'Show HN: A simple library for complicated animations', 'https://christinecha.github.io/choreographer-js/', '1', '0', 'christinecha', '9/26/2016 0:01']\n",
      "['12578098', 'Show HN: WebGL visualization of DNA sequences', 'http://grondilu.github.io/dna.html', '1', '0', 'grondilu', '9/25/2016 23:44']\n"
     ]
    }
   ],
   "source": [
    "data_slice(show_posts,0,3)"
   ]
  },
  {
   "cell_type": "code",
   "execution_count": 15,
   "metadata": {},
   "outputs": [],
   "source": [
    "def total_comm(data):\n",
    "    total_comments= 0\n",
    "    for row in data:\n",
    "        comm=int(row[4])\n",
    "        total_comments +=comm\n",
    "    avg_comments = total_comments/len(data)\n",
    "    return avg_comments"
   ]
  },
  {
   "cell_type": "code",
   "execution_count": 16,
   "metadata": {},
   "outputs": [
    {
     "data": {
      "text/plain": [
       "9.696857670979668"
      ]
     },
     "execution_count": 16,
     "metadata": {},
     "output_type": "execute_result"
    }
   ],
   "source": [
    "total_comm(ask_posts)"
   ]
  },
  {
   "cell_type": "code",
   "execution_count": 17,
   "metadata": {},
   "outputs": [
    {
     "data": {
      "text/plain": [
       "5.321138211382114"
      ]
     },
     "execution_count": 17,
     "metadata": {},
     "output_type": "execute_result"
    }
   ],
   "source": [
    "total_comm(show_posts)"
   ]
  },
  {
   "cell_type": "code",
   "execution_count": 18,
   "metadata": {},
   "outputs": [],
   "source": [
    "## Slide 5"
   ]
  },
  {
   "cell_type": "code",
   "execution_count": 19,
   "metadata": {},
   "outputs": [],
   "source": [
    "import datetime as dt\n",
    "result_list = []\n",
    "\n",
    "for row in ask_posts:\n",
    "    cre_at = row[6]\n",
    "    comm = int(row[4])\n",
    "    new = [cre_at,comm]\n",
    "    result_list.append(new)"
   ]
  },
  {
   "cell_type": "code",
   "execution_count": 20,
   "metadata": {},
   "outputs": [
    {
     "name": "stdout",
     "output_type": "stream",
     "text": [
      "['9/26/2016 2:53', 7]\n",
      "['9/26/2016 1:17', 3]\n",
      "['9/25/2016 22:57', 0]\n",
      "['9/25/2016 22:48', 3]\n",
      "['9/25/2016 21:50', 2]\n"
     ]
    }
   ],
   "source": [
    "data_slice(result_list,0,5)"
   ]
  },
  {
   "cell_type": "code",
   "execution_count": 21,
   "metadata": {},
   "outputs": [],
   "source": [
    "import datetime as dt\n",
    "counts_by_hour = {}\n",
    "comments_by_hour = {}\n",
    "date_format = \"%m/%d/%Y %H:%M\"\n",
    "\n",
    "for row in result_list:\n",
    "    date = row[0]\n",
    "    comment = row[1]\n",
    "    hour = dt.datetime.strptime(date,date_format).strftime(\"%H\")\n",
    "    if hour not in counts_by_hour:\n",
    "        counts_by_hour[hour] = 1\n",
    "        comments_by_hour[hour] = comment\n",
    "    else:\n",
    "        counts_by_hour[hour] += 1\n",
    "        comments_by_hour[hour] += comment"
   ]
  },
  {
   "cell_type": "code",
   "execution_count": 22,
   "metadata": {},
   "outputs": [
    {
     "data": {
      "text/plain": [
       "{'02': 14,\n",
       " '01': 12,\n",
       " '22': 22,\n",
       " '21': 28,\n",
       " '19': 31,\n",
       " '17': 40,\n",
       " '15': 39,\n",
       " '14': 31,\n",
       " '13': 25,\n",
       " '11': 19,\n",
       " '10': 21,\n",
       " '09': 12,\n",
       " '07': 13,\n",
       " '03': 14,\n",
       " '23': 20,\n",
       " '20': 29,\n",
       " '16': 30,\n",
       " '08': 23,\n",
       " '00': 18,\n",
       " '18': 40,\n",
       " '12': 25,\n",
       " '04': 10,\n",
       " '06': 14,\n",
       " '05': 11}"
      ]
     },
     "execution_count": 22,
     "metadata": {},
     "output_type": "execute_result"
    }
   ],
   "source": [
    "counts_by_hour"
   ]
  },
  {
   "cell_type": "code",
   "execution_count": 23,
   "metadata": {},
   "outputs": [
    {
     "data": {
      "text/plain": [
       "{'02': 276,\n",
       " '01': 36,\n",
       " '22': 165,\n",
       " '21': 173,\n",
       " '19': 515,\n",
       " '17': 157,\n",
       " '15': 255,\n",
       " '14': 219,\n",
       " '13': 300,\n",
       " '11': 353,\n",
       " '10': 141,\n",
       " '09': 195,\n",
       " '07': 114,\n",
       " '03': 72,\n",
       " '23': 159,\n",
       " '20': 597,\n",
       " '16': 131,\n",
       " '08': 101,\n",
       " '00': 134,\n",
       " '18': 181,\n",
       " '12': 135,\n",
       " '04': 718,\n",
       " '06': 100,\n",
       " '05': 19}"
      ]
     },
     "execution_count": 23,
     "metadata": {},
     "output_type": "execute_result"
    }
   ],
   "source": [
    "comments_by_hour"
   ]
  },
  {
   "cell_type": "code",
   "execution_count": 24,
   "metadata": {},
   "outputs": [
    {
     "data": {
      "text/plain": [
       "[['02', 19.714285714285715],\n",
       " ['01', 3.0],\n",
       " ['22', 7.5],\n",
       " ['21', 6.178571428571429],\n",
       " ['19', 16.612903225806452],\n",
       " ['17', 3.925],\n",
       " ['15', 6.538461538461538],\n",
       " ['14', 7.064516129032258],\n",
       " ['13', 12.0],\n",
       " ['11', 18.57894736842105],\n",
       " ['10', 6.714285714285714],\n",
       " ['09', 16.25],\n",
       " ['07', 8.76923076923077],\n",
       " ['03', 5.142857142857143],\n",
       " ['23', 7.95],\n",
       " ['20', 20.586206896551722],\n",
       " ['16', 4.366666666666666],\n",
       " ['08', 4.391304347826087],\n",
       " ['00', 7.444444444444445],\n",
       " ['18', 4.525],\n",
       " ['12', 5.4],\n",
       " ['04', 71.8],\n",
       " ['06', 7.142857142857143],\n",
       " ['05', 1.7272727272727273]]"
      ]
     },
     "execution_count": 24,
     "metadata": {},
     "output_type": "execute_result"
    }
   ],
   "source": [
    "avg_by_hour=[]\n",
    "for row in comments_by_hour:\n",
    "    avg_by_hour.append([row,(comments_by_hour[row]/counts_by_hour[row])])\n",
    "avg_by_hour"
   ]
  },
  {
   "cell_type": "code",
   "execution_count": 25,
   "metadata": {},
   "outputs": [
    {
     "data": {
      "text/plain": [
       "[[19.714285714285715, '02'],\n",
       " [3.0, '01'],\n",
       " [7.5, '22'],\n",
       " [6.178571428571429, '21'],\n",
       " [16.612903225806452, '19'],\n",
       " [3.925, '17'],\n",
       " [6.538461538461538, '15'],\n",
       " [7.064516129032258, '14'],\n",
       " [12.0, '13'],\n",
       " [18.57894736842105, '11'],\n",
       " [6.714285714285714, '10'],\n",
       " [16.25, '09'],\n",
       " [8.76923076923077, '07'],\n",
       " [5.142857142857143, '03'],\n",
       " [7.95, '23'],\n",
       " [20.586206896551722, '20'],\n",
       " [4.366666666666666, '16'],\n",
       " [4.391304347826087, '08'],\n",
       " [7.444444444444445, '00'],\n",
       " [4.525, '18'],\n",
       " [5.4, '12'],\n",
       " [71.8, '04'],\n",
       " [7.142857142857143, '06'],\n",
       " [1.7272727272727273, '05']]"
      ]
     },
     "execution_count": 25,
     "metadata": {},
     "output_type": "execute_result"
    }
   ],
   "source": [
    "swap_avg_by_hour = []\n",
    "for row in avg_by_hour:\n",
    "    swap_avg_by_hour.append([row[1],row[0]])\n",
    "swap_avg_by_hour"
   ]
  },
  {
   "cell_type": "code",
   "execution_count": 26,
   "metadata": {},
   "outputs": [
    {
     "data": {
      "text/plain": [
       "[[71.8, '04'],\n",
       " [20.586206896551722, '20'],\n",
       " [19.714285714285715, '02'],\n",
       " [18.57894736842105, '11'],\n",
       " [16.612903225806452, '19'],\n",
       " [16.25, '09'],\n",
       " [12.0, '13'],\n",
       " [8.76923076923077, '07'],\n",
       " [7.95, '23'],\n",
       " [7.5, '22'],\n",
       " [7.444444444444445, '00'],\n",
       " [7.142857142857143, '06'],\n",
       " [7.064516129032258, '14'],\n",
       " [6.714285714285714, '10'],\n",
       " [6.538461538461538, '15'],\n",
       " [6.178571428571429, '21'],\n",
       " [5.4, '12'],\n",
       " [5.142857142857143, '03'],\n",
       " [4.525, '18'],\n",
       " [4.391304347826087, '08'],\n",
       " [4.366666666666666, '16'],\n",
       " [3.925, '17'],\n",
       " [3.0, '01'],\n",
       " [1.7272727272727273, '05']]"
      ]
     },
     "execution_count": 26,
     "metadata": {},
     "output_type": "execute_result"
    }
   ],
   "source": [
    "sorted_swap = sorted(swap_avg_by_hour, reverse=True)\n",
    "sorted_swap"
   ]
  },
  {
   "cell_type": "code",
   "execution_count": 27,
   "metadata": {},
   "outputs": [
    {
     "name": "stdout",
     "output_type": "stream",
     "text": [
      "5 Best Hours to Ask Posts Comments\n",
      "04:00: 71.80 average comments per post\n",
      "20:00: 20.59 average comments per post\n",
      "02:00: 19.71 average comments per post\n",
      "11:00: 18.58 average comments per post\n",
      "19:00: 16.61 average comments per post\n"
     ]
    }
   ],
   "source": [
    "print(\"5 Best Hours to Ask Posts Comments\")\n",
    "for avg, hr in sorted_swap[:5]:\n",
    "    print(\n",
    "        \"{}: {:.2f} average comments per post\".format(\n",
    "            dt.datetime.strptime(hr, \"%H\").strftime(\"%H:%M\"),avg\n",
    "        )\n",
    "    )"
   ]
  }
 ],
 "metadata": {
  "kernelspec": {
   "display_name": "Python 3",
   "language": "python",
   "name": "python3"
  },
  "language_info": {
   "codemirror_mode": {
    "name": "ipython",
    "version": 3
   },
   "file_extension": ".py",
   "mimetype": "text/x-python",
   "name": "python",
   "nbconvert_exporter": "python",
   "pygments_lexer": "ipython3",
   "version": "3.7.3"
  }
 },
 "nbformat": 4,
 "nbformat_minor": 2
}
